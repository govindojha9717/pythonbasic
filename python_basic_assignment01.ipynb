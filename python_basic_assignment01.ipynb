{
  "nbformat": 4,
  "nbformat_minor": 0,
  "metadata": {
    "colab": {
      "provenance": []
    },
    "kernelspec": {
      "name": "python3",
      "display_name": "Python 3"
    },
    "language_info": {
      "name": "python"
    }
  },
  "cells": [
    {
      "cell_type": "code",
      "execution_count": null,
      "metadata": {
        "id": "uXvzGlSrQ63-"
      },
      "outputs": [],
      "source": []
    },
    {
      "cell_type": "markdown",
      "source": [
        "#Assignment\n",
        "\n",
        "Python Basics\n",
        "\n",
        "Q1. What is Python, and why is it popular?\n",
        "\n",
        "---> Python is a high-level, interpreted programming language known for its simplicity, readability, and versatility.\n",
        "\n",
        " Python is popular for :\n",
        "  1. Easy to Learn and use.\n",
        "  2. Used in versatile applications - such as data analysis , web development, application development and many more.\n",
        "  3.Open source intrepreted, high level language and free for charge.\n",
        "  4 can be integrated into programs to provide a customizable interface.\n",
        "  5. Rich Eco-systems of libraries.\n",
        "  6. Used by many big companies.\n",
        "\n",
        "  \n",
        "  Q2. What is an interpreter in Python?\n",
        "\n",
        "---> Interpreter in python is a program which reads and runs the code line by line, one at a time. When we write Python code like print(\"Hello\"), the interpreter translates that code into something your computer can understand and runs it right away.\n",
        "\n",
        "Q3. What are pre-defined keywords in Python?\n",
        "\n",
        "---> Pre-defined keywords in Python are special words that are reserved by the language because they have specific meanings and functions. We can’t use them as variable names, function names, or identifiers.\n",
        "\n",
        "  It is kind of a built-in-function which python understands.\n",
        "\n",
        "  For eg - if, else, for , while, etc.\n",
        "\n",
        "  Q4. Can keywords be used as variable names?\n",
        "\n",
        "---> No, Keywords cannot be used as a variable because it will confuse the interpreter and throws an error.\n",
        "\n",
        "Q5. What is mutability in Python?\n",
        "\n",
        "---> Mutability refers to whether or not a data object can be changed after it is created.\n",
        "\n",
        "\n",
        "\n"
      ],
      "metadata": {
        "id": "0kEkyeBXQ76f"
      }
    },
    {
      "cell_type": "code",
      "source": [
        "# Example of mutability - lists , set.\n",
        "list1 = [1,2,3,4]\n",
        "list1[0] = 0\n",
        "print(list1)"
      ],
      "metadata": {
        "colab": {
          "base_uri": "https://localhost:8080/"
        },
        "id": "MrJkGm1cSzkz",
        "outputId": "370d9050-b533-4e83-907a-b9b242ffe872"
      },
      "execution_count": 5,
      "outputs": [
        {
          "output_type": "stream",
          "name": "stdout",
          "text": [
            "[0, 2, 3, 4]\n"
          ]
        }
      ]
    },
    {
      "cell_type": "markdown",
      "source": [
        "Q6. Why are lists mutable, but tuples are immutable?\n",
        "\n",
        "---> A list is mutable and it is designed to add, remove and change items. They are built to be changed. Lists are mutable because they’re meant for dynamic, changeable data.\n",
        "\n",
        " A tuple is made to be fixed and secure. Once you create it:\n",
        "\n",
        " You cannot change its contents.\n",
        " This helps protect the data from accidental changes\n",
        "\n",
        " Tuples are immutable because they’re meant for fixed, unchangeable data.\n",
        "Q7. What is the difference between “==” and “is” operators in Python?\n",
        "\n",
        "---> '==' - It checks if two things look the same.\n",
        "\n"
      ],
      "metadata": {
        "id": "NZC7PcB7S5or"
      }
    },
    {
      "cell_type": "code",
      "source": [
        "#eg for ==\n",
        "a = [1,2,4]\n",
        "b = [1,2,4]\n",
        "\n",
        "print(a==b)"
      ],
      "metadata": {
        "colab": {
          "base_uri": "https://localhost:8080/"
        },
        "id": "ElP2bvUrTDc1",
        "outputId": "3ca19d72-0597-4c1a-d3b0-bdab7f21d9bd"
      },
      "execution_count": 6,
      "outputs": [
        {
          "output_type": "stream",
          "name": "stdout",
          "text": [
            "True\n"
          ]
        }
      ]
    },
    {
      "cell_type": "markdown",
      "source": [
        "'is' - It checks if they are the exact same thing in memory.\n"
      ],
      "metadata": {
        "id": "dCsb8hNlTIn3"
      }
    },
    {
      "cell_type": "code",
      "source": [
        "#eg for is:\n",
        "a = [1,2,3]\n",
        "b = [1,2,3]\n",
        "\n",
        "print(a is b)\n",
        "# False because they are two different objects, even if they look the same."
      ],
      "metadata": {
        "colab": {
          "base_uri": "https://localhost:8080/"
        },
        "id": "gtrGDxi3TMP1",
        "outputId": "f5273204-9222-440f-bdf8-5dfa39ac47a2"
      },
      "execution_count": 7,
      "outputs": [
        {
          "output_type": "stream",
          "name": "stdout",
          "text": [
            "False\n"
          ]
        }
      ]
    },
    {
      "cell_type": "markdown",
      "source": [
        "Q8. What are logical operators in Python?\n",
        "\n",
        "---> Logical operators are used to combine or compare conditions (True or False). There are 3 main logical operators 1. and = Both must be true 2. or = At least one must be true 3. not = Opposite of the condition\n",
        "\n",
        "Q9. What is type casting in Python?\n",
        "\n",
        "---> Type casting is like changing the shape of data so you can use it in a different way.\n",
        "\n",
        " Type casting means changing one data type into another.\n",
        "\n",
        ""
      ],
      "metadata": {
        "id": "sKqUlf8pTSac"
      }
    },
    {
      "cell_type": "code",
      "source": [
        "x = \"10\"         # x is a string\n",
        "y = int(x)       # now y is an integer\n",
        "print(y + 5)     # Output: 15\n"
      ],
      "metadata": {
        "colab": {
          "base_uri": "https://localhost:8080/"
        },
        "id": "VW7rQJOHTaEQ",
        "outputId": "edc90e47-08ec-410e-e1bb-1d2d0e570185"
      },
      "execution_count": 8,
      "outputs": [
        {
          "output_type": "stream",
          "name": "stdout",
          "text": [
            "15\n"
          ]
        }
      ]
    },
    {
      "cell_type": "markdown",
      "source": [
        "Q10. What is the difference between implicit and explicit type casting?\n",
        "\n",
        "---> Implicit Type Casting 1. Python automatically converts one data type to another without you asking for it. 2. Happens when the conversion is safe and won’t lose data.\n",
        "\n"
      ],
      "metadata": {
        "id": "u_YgRBLtTeiA"
      }
    },
    {
      "cell_type": "code",
      "source": [
        "x = 4\n",
        "y = 2.0\n",
        "\n",
        "print(x + y) #example for implicit type casting\n"
      ],
      "metadata": {
        "colab": {
          "base_uri": "https://localhost:8080/"
        },
        "id": "uRFyhrzQTh35",
        "outputId": "55aac75b-e3c9-4ad9-c55b-b1927c2fb93e"
      },
      "execution_count": 9,
      "outputs": [
        {
          "output_type": "stream",
          "name": "stdout",
          "text": [
            "6.0\n"
          ]
        }
      ]
    },
    {
      "cell_type": "markdown",
      "source": [
        "Explicit Type Casting\n",
        "1. You explicitly tell Python to convert a data type into another\n",
        "   using functions like int(), float(), str(), etc.\n",
        "\n",
        "2. You decide when and how the conversion happens.\n",
        "\n"
      ],
      "metadata": {
        "id": "A5pIFEXZTn6M"
      }
    },
    {
      "cell_type": "markdown",
      "source": [],
      "metadata": {
        "id": "xY_MgyDUTsOj"
      }
    },
    {
      "cell_type": "code",
      "source": [
        "x = 5.7       # Float\n",
        "y = int(x)    # Explicitly convert float to integer\n",
        "print(y)      # Output: 5 (the decimal part is removed)\n"
      ],
      "metadata": {
        "colab": {
          "base_uri": "https://localhost:8080/"
        },
        "id": "gnVeRFHlTvF2",
        "outputId": "58d174b1-9dab-489c-dafe-932a89b73062"
      },
      "execution_count": 10,
      "outputs": [
        {
          "output_type": "stream",
          "name": "stdout",
          "text": [
            "5\n"
          ]
        }
      ]
    },
    {
      "cell_type": "markdown",
      "source": [
        "Q11. What is the purpose of conditional statements in Python?\n",
        "\n",
        "---> Conditional statements allow your program to make decisions based on certain conditions. They help your code respond differently depending on whether a condition is True or False.\n",
        "\n",
        " 1. if statement: Executes a block of code if the condition is True.\n",
        " 2. else statement: Executes code if the if condition is False.\n",
        " 3. elif (else if) statement: Checks another condition if the previous\n",
        "    if or elif condition is False.\n",
        " 4. Nested if-else: Use if-else inside another if-else to handle more\n",
        "    complex conditions.\n",
        "Q12. How does the elif statement work?\n",
        "\n",
        "---> The elif statement allows you to check multiple conditions in sequence. If the first condition is False, Python will move to the elif condition and check it.\n",
        "\n",
        "1. First, Python checks the if condition.\n",
        "\n",
        "2. If if is False, it will then check the elif condition.\n",
        "\n",
        "3. You can have multiple elif statements to check more than one condition.\n",
        "\n",
        "4. If none of the if or elif conditions are True, it will run the else block (if present).\n",
        "Let's see an example for the same.\n",
        "\n"
      ],
      "metadata": {
        "id": "dOXn0Ms2Tz0L"
      }
    },
    {
      "cell_type": "markdown",
      "source": [],
      "metadata": {
        "id": "wVvOk1I3T3AM"
      }
    },
    {
      "cell_type": "code",
      "source": [
        "x = 5\n",
        "\n",
        "if x < 5:\n",
        "    print(\"x is less than 5\")\n",
        "elif x == 10:\n",
        "    print(\"x is exactly 10\")\n",
        "elif x > 5:\n",
        "    print(\"x is greater than 5\")\n",
        "else:\n",
        "    print(\"x is something else\")"
      ],
      "metadata": {
        "colab": {
          "base_uri": "https://localhost:8080/"
        },
        "id": "jnDuVRHmT3bf",
        "outputId": "86cef49f-7d24-4551-fdfe-65b29176a480"
      },
      "execution_count": 11,
      "outputs": [
        {
          "output_type": "stream",
          "name": "stdout",
          "text": [
            "x is something else\n"
          ]
        }
      ]
    },
    {
      "cell_type": "markdown",
      "source": [
        "Q13. What is the difference between for and while loops?\n",
        "\n",
        "---> Loops Statement It allows you to execute a block of code repeatedly.\n",
        "\n",
        "While Loop - repeatedly executed a block of code until a condition is met.\n",
        "\n",
        "when looping based on a condition.\n",
        "\n"
      ],
      "metadata": {
        "id": "t0ZpsGMyT7Ow"
      }
    },
    {
      "cell_type": "code",
      "source": [
        "x = 0\n",
        "while x < 5:\n",
        "  x = x+1\n",
        "  print(x)"
      ],
      "metadata": {
        "colab": {
          "base_uri": "https://localhost:8080/"
        },
        "id": "9qH_CdEIT_kI",
        "outputId": "57ff9f23-b2a2-4c11-b87d-de5aec80eaa5"
      },
      "execution_count": 12,
      "outputs": [
        {
          "output_type": "stream",
          "name": "stdout",
          "text": [
            "1\n",
            "2\n",
            "3\n",
            "4\n",
            "5\n"
          ]
        }
      ]
    },
    {
      "cell_type": "markdown",
      "source": [
        "2. For Loop - Iterate over a sequence of elements. Strings and list\n",
        "   are sequential data.\n",
        "\n",
        "  - when looping through something (like a list or range).\n",
        "\n",
        "  "
      ],
      "metadata": {
        "id": "KeRHcMt6UEMK"
      }
    },
    {
      "cell_type": "code",
      "source": [
        "for i in \"aarushi\":\n",
        "  print(i)"
      ],
      "metadata": {
        "colab": {
          "base_uri": "https://localhost:8080/"
        },
        "id": "dWMH8Fu1UHOu",
        "outputId": "c68a8650-64e1-462c-d569-de3455dbe688"
      },
      "execution_count": 13,
      "outputs": [
        {
          "output_type": "stream",
          "name": "stdout",
          "text": [
            "a\n",
            "a\n",
            "r\n",
            "u\n",
            "s\n",
            "h\n",
            "i\n"
          ]
        }
      ]
    },
    {
      "cell_type": "markdown",
      "source": [
        "Q14. Describe a scenario where a while loop is more suitable than a for loop?\n",
        "\n",
        "---> A while loop is perfect when you don’t know how many times something will need to happen — like asking the user to enter a correct password.\n",
        "\n"
      ],
      "metadata": {
        "id": "2QV0--KZUKZn"
      }
    },
    {
      "cell_type": "code",
      "source": [
        "password = \"python123\"\n",
        "user_input = \"\"\n",
        "\n",
        "while user_input != password:\n",
        "    user_input = input(\"Enter the password: \")\n",
        "\n",
        "print(\"Access granted!\")"
      ],
      "metadata": {
        "colab": {
          "base_uri": "https://localhost:8080/"
        },
        "id": "5LF1-nFaUNcr",
        "outputId": "c07192ad-0088-4d43-c0f8-5363fcf85d2c"
      },
      "execution_count": 14,
      "outputs": [
        {
          "output_type": "stream",
          "name": "stdout",
          "text": [
            "Enter the password: 91717171\n",
            "Enter the password: python123\n",
            "Access granted!\n"
          ]
        }
      ]
    },
    {
      "cell_type": "markdown",
      "source": [
        "Enter the password: python123\n",
        "Access granted!\n",
        "A for loop wouldn’t make sense here unless you wanted to limit attempts.\n",
        "\n",
        "Use a while loop when:\n",
        "\n",
        "You’re waiting for a condition to become true.\n",
        "\n",
        "You don’t know the exact number of repetitions.\n",
        "\n"
      ],
      "metadata": {
        "id": "ZhahGyMxUZTS"
      }
    },
    {
      "cell_type": "code",
      "source": [],
      "metadata": {
        "id": "MAm1XnWjUekP"
      },
      "execution_count": null,
      "outputs": []
    },
    {
      "cell_type": "markdown",
      "source": [
        "Q1. Write a Python program to print \"Hello, World!\n",
        "\n"
      ],
      "metadata": {
        "id": "-tdvYTdNUfen"
      }
    },
    {
      "cell_type": "code",
      "source": [
        "print(\"Hello, World!\")"
      ],
      "metadata": {
        "colab": {
          "base_uri": "https://localhost:8080/"
        },
        "id": "0GCBz6srUgq5",
        "outputId": "88aa675a-8dd1-4e23-86e8-d9e28804d45a"
      },
      "execution_count": 16,
      "outputs": [
        {
          "output_type": "stream",
          "name": "stdout",
          "text": [
            "Hello, World!\n"
          ]
        }
      ]
    },
    {
      "cell_type": "markdown",
      "source": [
        "Q2. Write a Python program that displays your name and age\n",
        "\n"
      ],
      "metadata": {
        "id": "eOXzk5cpUoHu"
      }
    },
    {
      "cell_type": "code",
      "source": [
        "a = \"Govind ojha\"\n",
        "b = '24'\n",
        "\n",
        "print (a , b ,sep=\" & \" )\n",
        "\n",
        "#or\n",
        "\n",
        "print(a)\n",
        "print(b)\n"
      ],
      "metadata": {
        "colab": {
          "base_uri": "https://localhost:8080/"
        },
        "id": "HdXNFtFPU8Du",
        "outputId": "eb7f2456-af90-46be-d907-ad16715dc329"
      },
      "execution_count": 22,
      "outputs": [
        {
          "output_type": "stream",
          "name": "stdout",
          "text": [
            "Govind ojha & 24\n",
            "Govind ojha\n",
            "24\n"
          ]
        }
      ]
    },
    {
      "cell_type": "markdown",
      "source": [
        "Q3. Write code to print all the pre-defined keywords in Python using the keyword library.\n",
        "\n"
      ],
      "metadata": {
        "id": "kDWgQOBHV0dE"
      }
    },
    {
      "cell_type": "code",
      "source": [
        "help('keywords')"
      ],
      "metadata": {
        "colab": {
          "base_uri": "https://localhost:8080/"
        },
        "id": "cR_jH352V_nK",
        "outputId": "f21e0e82-14db-4587-9f41-fcbdf8aecff0"
      },
      "execution_count": 23,
      "outputs": [
        {
          "output_type": "stream",
          "name": "stdout",
          "text": [
            "\n",
            "Here is a list of the Python keywords.  Enter any keyword to get more help.\n",
            "\n",
            "False               class               from                or\n",
            "None                continue            global              pass\n",
            "True                def                 if                  raise\n",
            "and                 del                 import              return\n",
            "as                  elif                in                  try\n",
            "assert              else                is                  while\n",
            "async               except              lambda              with\n",
            "await               finally             nonlocal            yield\n",
            "break               for                 not                 \n",
            "\n"
          ]
        }
      ]
    },
    {
      "cell_type": "markdown",
      "source": [
        "Q4. Write a program that checks if a given word is a Python keyword.\n",
        "\n"
      ],
      "metadata": {
        "id": "YiMygJO_WFmH"
      }
    },
    {
      "cell_type": "code",
      "source": [
        "import keyword\n",
        "\n",
        "# Ask the user for a word\n",
        "word = input(\"Enter a word: \")\n",
        "\n",
        "# Check if it's a keyword\n",
        "if keyword.iskeyword(word):\n",
        "    print(f\"'{word}' is a Python keyword.\")\n",
        "else:\n",
        "    print(f\"'{word}' is NOT a Python keyword.\")"
      ],
      "metadata": {
        "colab": {
          "base_uri": "https://localhost:8080/"
        },
        "id": "tbAaYnuwWG0E",
        "outputId": "579c166c-7bc9-4d91-f353-79c93e16c7a7"
      },
      "execution_count": 24,
      "outputs": [
        {
          "output_type": "stream",
          "name": "stdout",
          "text": [
            "Enter a word: print\n",
            "'print' is NOT a Python keyword.\n"
          ]
        }
      ]
    },
    {
      "cell_type": "markdown",
      "source": [
        "Q5. Create a list and tuple in Python, and demonstrate how attempting to change an element works differently for each."
      ],
      "metadata": {
        "id": "BEnkeq5bWTU5"
      }
    },
    {
      "cell_type": "code",
      "source": [
        "#created a list\n",
        "List = [1,2,3,4,5,6]\n",
        "\n",
        "print(List)\n",
        "\n",
        "List[0] = 0 #this will add an element in a list.\n",
        "print(List)\n",
        "\n",
        "type(List)\n",
        "\n",
        "#created a tuple\n",
        "\n",
        "tuple = (1,2,3)\n",
        "\n",
        "print(tuple)\n",
        "\n",
        "tuple[0] = 0\n",
        "\n",
        "print(tuple) #this will throw an error as tuples are immutable."
      ],
      "metadata": {
        "colab": {
          "base_uri": "https://localhost:8080/",
          "height": 263
        },
        "collapsed": true,
        "id": "-TQ8pBYkWXQK",
        "outputId": "1277c406-a75f-4dea-ab3e-00ed36bfceb4"
      },
      "execution_count": 25,
      "outputs": [
        {
          "output_type": "stream",
          "name": "stdout",
          "text": [
            "[1, 2, 3, 4, 5, 6]\n",
            "[0, 2, 3, 4, 5, 6]\n",
            "(1, 2, 3)\n"
          ]
        },
        {
          "output_type": "error",
          "ename": "TypeError",
          "evalue": "'tuple' object does not support item assignment",
          "traceback": [
            "\u001b[0;31m---------------------------------------------------------------------------\u001b[0m",
            "\u001b[0;31mTypeError\u001b[0m                                 Traceback (most recent call last)",
            "\u001b[0;32m<ipython-input-25-3195e416a21f>\u001b[0m in \u001b[0;36m<cell line: 0>\u001b[0;34m()\u001b[0m\n\u001b[1;32m     15\u001b[0m \u001b[0mprint\u001b[0m\u001b[0;34m(\u001b[0m\u001b[0mtuple\u001b[0m\u001b[0;34m)\u001b[0m\u001b[0;34m\u001b[0m\u001b[0;34m\u001b[0m\u001b[0m\n\u001b[1;32m     16\u001b[0m \u001b[0;34m\u001b[0m\u001b[0m\n\u001b[0;32m---> 17\u001b[0;31m \u001b[0mtuple\u001b[0m\u001b[0;34m[\u001b[0m\u001b[0;36m0\u001b[0m\u001b[0;34m]\u001b[0m \u001b[0;34m=\u001b[0m \u001b[0;36m0\u001b[0m\u001b[0;34m\u001b[0m\u001b[0;34m\u001b[0m\u001b[0m\n\u001b[0m\u001b[1;32m     18\u001b[0m \u001b[0;34m\u001b[0m\u001b[0m\n\u001b[1;32m     19\u001b[0m \u001b[0mprint\u001b[0m\u001b[0;34m(\u001b[0m\u001b[0mtuple\u001b[0m\u001b[0;34m)\u001b[0m \u001b[0;31m#this will throw an error as tuples are immutable.\u001b[0m\u001b[0;34m\u001b[0m\u001b[0;34m\u001b[0m\u001b[0m\n",
            "\u001b[0;31mTypeError\u001b[0m: 'tuple' object does not support item assignment"
          ]
        }
      ]
    },
    {
      "cell_type": "markdown",
      "source": [
        "Q6. Write a function to demonstrate the behavior of mutable and immutable arguments."
      ],
      "metadata": {
        "id": "BpDWyBmVWf3w"
      }
    },
    {
      "cell_type": "code",
      "source": [
        "def change_values(a, b):\n",
        "    a = a + 5           # Immutable (int) - change won't affect original\n",
        "    b.append(10)        # Mutable (list) - change will affect original\n",
        "    print(\"Inside function:\")\n",
        "    print(\"a =\", a)\n",
        "    print(\"b =\", b)\n",
        "\n",
        "x = 10\n",
        "y = [1, 2, 3]\n",
        "\n",
        "change_values(x, y)\n",
        "\n",
        "print(\"Outside function:\")\n",
        "print(\"x =\", x)        # Stays 10\n",
        "print(\"y =\", y)        # Becomes [1, 2, 3, 10]"
      ],
      "metadata": {
        "colab": {
          "base_uri": "https://localhost:8080/"
        },
        "id": "7MHC3NLXWaLM",
        "outputId": "cc492c0f-fb45-4200-b35e-ca23ca639177"
      },
      "execution_count": 26,
      "outputs": [
        {
          "output_type": "stream",
          "name": "stdout",
          "text": [
            "Inside function:\n",
            "a = 15\n",
            "b = [1, 2, 3, 10]\n",
            "Outside function:\n",
            "x = 10\n",
            "y = [1, 2, 3, 10]\n"
          ]
        }
      ]
    },
    {
      "cell_type": "markdown",
      "source": [],
      "metadata": {
        "id": "KediVbenWlWy"
      }
    },
    {
      "cell_type": "markdown",
      "source": [
        "Q7. Write a program that performs basic arithmetic operations on two\n",
        "user-input numbers.\n",
        "\n",
        "--->"
      ],
      "metadata": {
        "id": "ilhTrodBWoJr"
      }
    },
    {
      "cell_type": "code",
      "source": [
        "#Arithmetic operations\n",
        "a = float(input(\"Enter a  1st number =  \"))\n",
        "\n",
        "b = int(input(\"Enter a  2nd number =  \"))\n",
        "\n",
        " # Perform arithmetic operations\n",
        "\n",
        "print(\"Addition:\", a + b)\n",
        "print(\"Subtraction:\", a - b)\n",
        "print(\"Multiplication:\", a * b)"
      ],
      "metadata": {
        "colab": {
          "base_uri": "https://localhost:8080/"
        },
        "id": "Jbb5HZzuWsNk",
        "outputId": "3e9e5919-dab8-4a75-936c-e26494a7a086"
      },
      "execution_count": 27,
      "outputs": [
        {
          "output_type": "stream",
          "name": "stdout",
          "text": [
            "Enter a  1st number =  2\n",
            "Enter a  2nd number =  4\n",
            "Addition: 6.0\n",
            "Subtraction: -2.0\n",
            "Multiplication: 8.0\n"
          ]
        }
      ]
    },
    {
      "cell_type": "markdown",
      "source": [
        "Q8. Write a program to demonstrate the use of logical operators.\n",
        "\n",
        "---> Use of Logical operators\n",
        "\n",
        " 1. and returns True only if both conditions are true\n",
        "\n",
        " 2. or returns True if at least one condition is true\n",
        "\n",
        " 3. not reverses the result: True becomes False, and vice versa"
      ],
      "metadata": {
        "id": "e-FC08lbXITm"
      }
    },
    {
      "cell_type": "code",
      "source": [
        "#logical operators\n",
        "\n",
        "# Take input from the user\n",
        "a = int(input(\"Enter first number: \"))\n",
        "b = int(input(\"Enter second number: \"))\n",
        "\n",
        "# Logical AND\n",
        "print(\"a > 0 and b > 0:\", a > 0 and b > 0)\n",
        "\n",
        "# Logical OR\n",
        "print(\"a > 0 or b > 0:\", a > 0 or b > 0)\n",
        "\n",
        "# Logical NOT\n",
        "print(\"not(a > 0):\", not(a > 0))"
      ],
      "metadata": {
        "colab": {
          "base_uri": "https://localhost:8080/"
        },
        "id": "JQwS_JwzXL3w",
        "outputId": "01bd2b12-1c9a-434d-9041-f94112214d26"
      },
      "execution_count": 28,
      "outputs": [
        {
          "output_type": "stream",
          "name": "stdout",
          "text": [
            "Enter first number: 2\n",
            "Enter second number: 3\n",
            "a > 0 and b > 0: True\n",
            "a > 0 or b > 0: True\n",
            "not(a > 0): False\n"
          ]
        }
      ]
    },
    {
      "cell_type": "markdown",
      "source": [
        "Q9. Write a Python program to convert user input from string to integer, float, and boolean types."
      ],
      "metadata": {
        "id": "TY5_ea_kXPgw"
      }
    },
    {
      "cell_type": "code",
      "source": [
        "#USER INPUT\n",
        "\n",
        "num = input(\"Enter a value =  \")\n",
        "\n",
        "# string to int\n",
        "\n",
        "a = int(num)\n",
        "print(\"Integer value = \", a)\n",
        "\n",
        "#convert to float\n",
        "\n",
        "b = float( num)\n",
        "print(\"Float Value = \" ,b)\n",
        "\n",
        "#convert to boolean\n",
        "\n",
        "c = bool(num)\n",
        "print(\"Boolean Value =  \", c)"
      ],
      "metadata": {
        "colab": {
          "base_uri": "https://localhost:8080/"
        },
        "id": "5GKhFScnXSK0",
        "outputId": "b5df888a-d46c-4e96-a0c2-38154707d214"
      },
      "execution_count": 29,
      "outputs": [
        {
          "output_type": "stream",
          "name": "stdout",
          "text": [
            "Enter a value =  2\n",
            "Integer value =  2\n",
            "Float Value =  2.0\n",
            "Boolean Value =   True\n"
          ]
        }
      ]
    },
    {
      "cell_type": "markdown",
      "source": [
        "**NOTE **\n",
        "\n",
        "If the user enters something non-numeric (like \"hello\"), int() and float () will raise an error.\n",
        "\n",
        "In Python, bool(\"\") is False, and any non-empty string becomes True.\n",
        "\n",
        "Q10. Write code to demonstrate type casting with list elements."
      ],
      "metadata": {
        "id": "IRLKRsC6XX6o"
      }
    },
    {
      "cell_type": "code",
      "source": [
        "# List of strings\n",
        "str_list = [\"10\", \"20\", \"30\"]\n",
        "\n",
        "# Convert string elements to integers\n",
        "int_list = [int(x) for x in str_list]\n",
        "print(\"Integer list:\", int_list)\n",
        "\n",
        "# Convert string elements to floats\n",
        "float_list = [float(x) for x in str_list]\n",
        "print(\"Float list:\", float_list)\n",
        "\n",
        "# Convert string elements to boolean\n",
        "bool_list = [bool(x) for x in str_list]\n",
        "print(\"Boolean list:\", bool_list)"
      ],
      "metadata": {
        "colab": {
          "base_uri": "https://localhost:8080/"
        },
        "id": "GPIOYmCvXYs9",
        "outputId": "17fe9f83-9934-4cae-e325-a93adf556d47"
      },
      "execution_count": 30,
      "outputs": [
        {
          "output_type": "stream",
          "name": "stdout",
          "text": [
            "Integer list: [10, 20, 30]\n",
            "Float list: [10.0, 20.0, 30.0]\n",
            "Boolean list: [True, True, True]\n"
          ]
        }
      ]
    },
    {
      "cell_type": "markdown",
      "source": [
        "Q11. Write a program that checks if a number is positive, negative, or zero."
      ],
      "metadata": {
        "id": "IY509upDXcyw"
      }
    },
    {
      "cell_type": "code",
      "source": [
        "#CHECKS IF A NUMBER IS POSITIVE, NEGATIVE OR ZERO\n",
        "\n",
        "a = float(input(\"Enter a number =  \"))\n",
        "if a>0:\n",
        "  print(a, \" is positive number\")\n",
        "\n",
        "elif a<0:\n",
        "  print(a, \" is negative number\")\n",
        "elif a==0:\n",
        "  print(a, \"is a zero\")"
      ],
      "metadata": {
        "colab": {
          "base_uri": "https://localhost:8080/"
        },
        "id": "7PMxPeilXfVo",
        "outputId": "a5cd57c3-4aef-454a-cfb0-954cdb8d97dd"
      },
      "execution_count": 31,
      "outputs": [
        {
          "output_type": "stream",
          "name": "stdout",
          "text": [
            "Enter a number =  3\n",
            "3.0  is positive number\n"
          ]
        }
      ]
    },
    {
      "cell_type": "markdown",
      "source": [
        "Q12. Write a for loop to print numbers from 1 to 10.\n",
        "\n",
        "---> Here, it is"
      ],
      "metadata": {
        "id": "mTqvBZwXXjgV"
      }
    },
    {
      "cell_type": "code",
      "source": [
        "#Print numbers from 1 to 10\n",
        "\n",
        "for i in range(1,11):\n",
        " print(i)\n",
        "\n",
        "\n",
        " #using while loop\n",
        "\n",
        " i = 1\n",
        "while i <= 10:\n",
        "    print(i)\n",
        "    i += 1"
      ],
      "metadata": {
        "colab": {
          "base_uri": "https://localhost:8080/"
        },
        "id": "KqkicZJwXkns",
        "outputId": "b31ab8fb-96f2-414c-cf4c-628bfa2b0505"
      },
      "execution_count": 32,
      "outputs": [
        {
          "output_type": "stream",
          "name": "stdout",
          "text": [
            "1\n",
            "2\n",
            "3\n",
            "4\n",
            "5\n",
            "6\n",
            "7\n",
            "8\n",
            "9\n",
            "10\n",
            "1\n",
            "2\n",
            "3\n",
            "4\n",
            "5\n",
            "6\n",
            "7\n",
            "8\n",
            "9\n",
            "10\n"
          ]
        }
      ]
    },
    {
      "cell_type": "markdown",
      "source": [
        "Q13. Write a Python program to find the sum of all even numbers between 1 and 50\n",
        "\n",
        "--->"
      ],
      "metadata": {
        "id": "IogVqmoxXqaP"
      }
    },
    {
      "cell_type": "code",
      "source": [
        "#Sum of all even numbers between 1 and 50\n",
        "\n",
        "\n",
        "sum_even = 0\n",
        "\n",
        "for i in range(2, 51, 2):  # Start from 2, go up to 50, step by 2\n",
        "    sum_even += i\n",
        "\n",
        "print(\"Sum of even numbers from 1 to 50 is:\", sum_even)"
      ],
      "metadata": {
        "colab": {
          "base_uri": "https://localhost:8080/"
        },
        "id": "nySXMgxRXrF5",
        "outputId": "b9e05835-8cf6-48a1-9b8b-56bd8e868677"
      },
      "execution_count": 33,
      "outputs": [
        {
          "output_type": "stream",
          "name": "stdout",
          "text": [
            "Sum of even numbers from 1 to 50 is: 650\n"
          ]
        }
      ]
    },
    {
      "cell_type": "markdown",
      "source": [
        "Q14. Write a program to reverse a string using a while loop."
      ],
      "metadata": {
        "id": "J8haW259Xxwu"
      }
    },
    {
      "cell_type": "code",
      "source": [
        "# Take input from the user\n",
        "text = input(\"Enter a string: \")\n",
        "\n",
        "# Initialize variables\n",
        "reversed_text = \"\"\n",
        "index = len(text) - 1\n",
        "\n",
        "# Reverse using while loop\n",
        "while index >= 0:\n",
        "    reversed_text += text[index]\n",
        "    index -= 1\n",
        "\n",
        "print(\"Reversed string:\", reversed_text)"
      ],
      "metadata": {
        "colab": {
          "base_uri": "https://localhost:8080/"
        },
        "id": "pC7uhOX4XyaP",
        "outputId": "0005dfd7-3918-485e-a5d4-93fc7a15bfcd"
      },
      "execution_count": 34,
      "outputs": [
        {
          "output_type": "stream",
          "name": "stdout",
          "text": [
            "Enter a string: govind\n",
            "Reversed string: dnivog\n"
          ]
        }
      ]
    },
    {
      "cell_type": "markdown",
      "source": [
        "Q15. Write a Python program to calculate the factorial of a number provided by the user using a while loop."
      ],
      "metadata": {
        "id": "ux5KzDIqX4Bn"
      }
    },
    {
      "cell_type": "code",
      "source": [
        "# Take input from the user\n",
        "num = int(input(\"Enter a number: \"))\n",
        "\n",
        "# Initialize variables\n",
        "factorial = 1\n",
        "i = 1\n",
        "\n",
        "# Calculate factorial using while loop\n",
        "while i <= num:\n",
        "    factorial *= i\n",
        "    i += 1\n",
        "\n",
        "print(\"Factorial of\", num, \"is:\", factorial)\n"
      ],
      "metadata": {
        "colab": {
          "base_uri": "https://localhost:8080/"
        },
        "id": "8RJc66yRX45Q",
        "outputId": "71086935-67d9-40d6-b5a8-db4abf6f2fcf"
      },
      "execution_count": 35,
      "outputs": [
        {
          "output_type": "stream",
          "name": "stdout",
          "text": [
            "Enter a number: 4\n",
            "Factorial of 4 is: 24\n"
          ]
        }
      ]
    }
  ]
}